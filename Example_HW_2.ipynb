{
 "cells": [
  {
   "cell_type": "markdown",
   "id": "517ba867",
   "metadata": {},
   "source": [
    "### Задание 1"
   ]
  },
  {
   "cell_type": "code",
   "execution_count": 1,
   "id": "af128adc",
   "metadata": {},
   "outputs": [],
   "source": [
    "import pandas\n",
    "import numpy as np\n",
    "from collections import defaultdict\n",
    "from math import log\n",
    "from sklearn.model_selection import train_test_split\n",
    "from functools import reduce\n",
    "import operator\n",
    "from sklearn.naive_bayes import GaussianNB, MultinomialNB\n",
    "from sklearn import preprocessing\n",
    "from sklearn.datasets import load_iris\n",
    "import matplotlib.pyplot as plt\n",
    "from sklearn.discriminant_analysis import LinearDiscriminantAnalysis"
   ]
  },
  {
   "cell_type": "code",
   "execution_count": 2,
   "id": "6ba96989",
   "metadata": {},
   "outputs": [],
   "source": [
    "data = pandas.read_csv('baby-names.csv', usecols=[\"name\", \"sex\"])"
   ]
  },
  {
   "cell_type": "markdown",
   "id": "f7417258",
   "metadata": {},
   "source": [
    "Использую train_test_split для того чтобы перемешать данные и удобно отделить часть данных\n",
    "Преобразую данные в удобный формат"
   ]
  },
  {
   "cell_type": "code",
   "execution_count": 3,
   "id": "51486653",
   "metadata": {},
   "outputs": [],
   "source": [
    "train, test = train_test_split(data, train_size=0.75)\n",
    "train_list = [tuple(x) for x in train.values]\n",
    "test_list = [tuple(x) for x in test.values]"
   ]
  },
  {
   "cell_type": "markdown",
   "id": "ad4fe1c3",
   "metadata": {},
   "source": [
    "Обучить наивную байесовскую классификацию на тестовом наборе данных"
   ]
  },
  {
   "cell_type": "code",
   "execution_count": 4,
   "id": "b69d71e3",
   "metadata": {},
   "outputs": [],
   "source": [
    "def train(samples):\n",
    "    classes, freq = defaultdict(lambda:0), defaultdict(lambda:0)\n",
    "    for feats, label in samples:\n",
    "        classes[label] += 1                 # count classes frequencies\n",
    "        for feat in feats:\n",
    "            freq[label, feat] += 1          # count features frequencies\n",
    "\n",
    "    for label, feat in freq:                # normalize features frequencies\n",
    "        freq[label, feat] /= classes[label]\n",
    "    for c in classes:                       # normalize classes frequencies\n",
    "        classes[c] /= len(samples)\n",
    "    return classes, freq                    # return P(C) and P(O|C)\n",
    "\n",
    "def classify(classifier, feats):\n",
    "    classes, prob = classifier\n",
    "    return min(classes.keys(),              # calculate argmin(-log(C|O))\n",
    "        key = lambda cl: -log(classes[cl]) + \\\n",
    "            sum(-log(prob.get((cl,feat), 10**(-11))) for feat in feats))\n",
    "\n",
    "def get_features(sample): return (sample[-1],)\n",
    "\n",
    "features = [(get_features(feat), label) for feat, label in train_list]\n",
    "classifier = train(features)"
   ]
  },
  {
   "cell_type": "markdown",
   "id": "68d519f6",
   "metadata": {},
   "source": [
    "Средняя доля правильных ответов классификатора"
   ]
  },
  {
   "cell_type": "code",
   "execution_count": 5,
   "id": "8d44f4af",
   "metadata": {},
   "outputs": [
    {
     "data": {
      "text/plain": [
       "0.777860465116279"
      ]
     },
     "execution_count": 5,
     "metadata": {},
     "output_type": "execute_result"
    }
   ],
   "source": [
    "right_ans = sum(classify(classifier, get_features(name)) == sex for name, sex in test_list) / len(test_list) \n",
    "right_ans"
   ]
  },
  {
   "cell_type": "markdown",
   "id": "5a803160",
   "metadata": {},
   "source": [
    "Модифицирую функцию get_features, пусть в качестве целевого признака будет браться не только последняя буква, но и сочетание последних двух букв. Заметим, что точность алгоритма улучшилась"
   ]
  },
  {
   "cell_type": "code",
   "execution_count": 6,
   "id": "95e2f8a2",
   "metadata": {},
   "outputs": [
    {
     "data": {
      "text/plain": [
       "0.8037364341085271"
      ]
     },
     "execution_count": 6,
     "metadata": {},
     "output_type": "execute_result"
    }
   ],
   "source": [
    "def get_features(sample): return (sample[-1], sample[-2:].lower())\n",
    "features = [(get_features(feat), label) for feat, label in train_list]\n",
    "classifier = train(features)\n",
    "right_ans = sum(classify(classifier, get_features(name)) == sex for name, sex in test_list) / len(test_list) \n",
    "right_ans"
   ]
  },
  {
   "cell_type": "markdown",
   "id": "386bd1d6",
   "metadata": {},
   "source": [
    "Модифицирую метод classify(), вместо логарифмов будут браться исходные значения вероятностей, а вместо argmin считается функционал argmax"
   ]
  },
  {
   "cell_type": "code",
   "execution_count": 7,
   "id": "18d1bc9b",
   "metadata": {},
   "outputs": [],
   "source": [
    "# Так как в Python нет функции как sum для операции multiplication, \n",
    "# необходимо написать свою функцию, выполняющую необходимый функционал\n",
    "def prod(iterable):\n",
    "    return reduce(operator.mul, iterable, 1)\n",
    "\n",
    "\n",
    "def classify_new(classifier, feats):\n",
    "    classes, prob = classifier\n",
    "    return max(classes.keys(),           \n",
    "        key = lambda cl: classes[cl] * \\\n",
    "               prod(prob.get((cl,feat), 10**(-11)) for feat in feats))"
   ]
  },
  {
   "cell_type": "code",
   "execution_count": 8,
   "id": "9c020e24",
   "metadata": {},
   "outputs": [
    {
     "data": {
      "text/plain": [
       "0.8037364341085271"
      ]
     },
     "execution_count": 8,
     "metadata": {},
     "output_type": "execute_result"
    }
   ],
   "source": [
    "features = [(get_features(feat), label) for feat, label in train_list]\n",
    "classifier = train(features)\n",
    "right_ans = sum(classify_new(classifier, get_features(name)) == sex for name, sex in test_list) / len(test_list) \n",
    "right_ans"
   ]
  },
  {
   "cell_type": "markdown",
   "id": "a9277a15",
   "metadata": {},
   "source": [
    "Заметим, что результат не изменился после изменения метода classify, на самом деле результат мог бы измениться. Выбор рассчета с логарифмами является предпочтительным, так как помогает избежать слишком маленьких значений, которые могут быть получены при перемножении вероятностей"
   ]
  },
  {
   "cell_type": "markdown",
   "id": "9cbbb654",
   "metadata": {},
   "source": [
    "Из этого можно сделать вывод, что выбор целевых признаков сильно влияет на результат, выбор правильных признаков - осовнова верного рузельтата. Выбор классификатора оказывает меньшее влияние на результат чем целевые признаки"
   ]
  },
  {
   "cell_type": "markdown",
   "id": "59f23487",
   "metadata": {},
   "source": [
    "Проверка результатов с использованием гауссовского классификатора"
   ]
  },
  {
   "cell_type": "code",
   "execution_count": 9,
   "id": "b91cece7",
   "metadata": {},
   "outputs": [],
   "source": [
    "name_train_list, sex_train_list = zip(*train_list)\n",
    "sex_train_list = np.array([0 if sex == 'boy' else 1 for sex in sex_train_list])\n",
    "name_test_list, sex_test_list = zip(*test_list)\n",
    "sex_test_list = np.array([0 if sex == 'boy' else 1 for sex in sex_test_list])\n",
    "le = preprocessing.LabelEncoder()\n",
    "\n",
    "# Оставляем последнюю букву каждого имени для тренировки\n",
    "last_letters = [name[-1] for name in name_train_list]\n",
    "name_train_list = le.fit_transform(last_letters)\n",
    "\n",
    "\n",
    "# Оставляем последнюю букву каждого имени для теста\n",
    "last_letters = [name[-1] for name in name_test_list]\n",
    "name_test_list = le.fit_transform(last_letters)\n",
    "\n",
    "name_train_list = name_train_list.reshape(-1, 1)\n",
    "name_test_list = name_test_list.reshape(-1, 1)"
   ]
  },
  {
   "cell_type": "code",
   "execution_count": 10,
   "id": "43eda7a6",
   "metadata": {},
   "outputs": [
    {
     "name": "stdout",
     "output_type": "stream",
     "text": [
      "Точность с Гауссовским классификатором 0.7331782945736434\n"
     ]
    }
   ],
   "source": [
    "gnb = GaussianNB()\n",
    "gnb.fit(name_train_list, sex_train_list)\n",
    "pred = gnb.predict(name_test_list)\n",
    "print(f'Точность с Гауссовским классификатором {(sex_test_list == pred).sum() / name_test_list.shape[0]}')"
   ]
  },
  {
   "cell_type": "code",
   "execution_count": 11,
   "id": "d47028a1",
   "metadata": {},
   "outputs": [
    {
     "name": "stdout",
     "output_type": "stream",
     "text": [
      "Точность с Мультиномиальным классификатором 0.49931782945736436\n"
     ]
    }
   ],
   "source": [
    "mnl = MultinomialNB()\n",
    "mnl.fit(name_train_list, sex_train_list)\n",
    "pred = mnl.predict(name_test_list)\n",
    "print(f'Точность с Мультиномиальным классификатором {(sex_test_list == pred).sum() / name_test_list.shape[0]}')"
   ]
  },
  {
   "cell_type": "markdown",
   "id": "0fc2b9b2",
   "metadata": {},
   "source": [
    "Самым точным классификаатором оказался наивный Байесовский классификатор, самый худший результат дал Мультиномиальный классификатор"
   ]
  },
  {
   "cell_type": "markdown",
   "id": "56ea660a",
   "metadata": {},
   "source": [
    "### Задание 2"
   ]
  },
  {
   "cell_type": "markdown",
   "id": "e1a2919d",
   "metadata": {},
   "source": [
    "Возьмем датасет содержащий описание цветков ириса."
   ]
  },
  {
   "cell_type": "code",
   "execution_count": 12,
   "id": "e9018a47",
   "metadata": {},
   "outputs": [],
   "source": [
    "data = load_iris()\n",
    "X, y = load_iris(return_X_y=True)\n",
    "\n",
    "X_train, X_test, y_train, y_test = train_test_split(X, y, train_size=0.75)"
   ]
  },
  {
   "cell_type": "code",
   "execution_count": 13,
   "id": "4fff92f4",
   "metadata": {},
   "outputs": [],
   "source": [
    "def LDA_dimensionality(X, y, k):\n",
    "    '''\n",
    "    X - набор данных, y - метка, k - целевой размер\n",
    "    '''\n",
    "    label_ = list(set(y))\n",
    "\n",
    "    X_classify = {}\n",
    "\n",
    "    for label in label_:\n",
    "        X1 = np.array([X[i] for i in range(len(X)) if y[i] == label])\n",
    "        X_classify[label] = X1\n",
    "\n",
    "    mju = np.mean(X, axis=0)\n",
    "    mju_classify = {}\n",
    "\n",
    "    for label in label_:\n",
    "        mju1 = np.mean(X_classify[label], axis=0)\n",
    "        mju_classify[label] = mju1\n",
    "\n",
    "    #St = np.dot((X - mju).T, X - mju)\n",
    "\n",
    "    Sw = np.zeros((len(mju), len(mju)))  # Вычислить матрицу внутриклассовой дивергенции\n",
    "    for i in label_:\n",
    "        Sw += np.dot((X_classify[i] - mju_classify[i]).T,\n",
    "                     X_classify[i] - mju_classify[i])\n",
    "\n",
    "    # Sb=St-Sw\n",
    "\n",
    "    Sb = np.zeros((len(mju), len(mju)))  # Вычислить матрицу внутриклассовой дивергенции\n",
    "    for i in label_:\n",
    "        Sb += len(X_classify[i]) * np.dot((mju_classify[i] - mju).reshape(\n",
    "            (len(mju), 1)), (mju_classify[i] - mju).reshape((1, len(mju))))\n",
    "\n",
    "    eig_vals, eig_vecs = np.linalg.eig(\n",
    "        np.linalg.inv(Sw).dot(Sb))  # Вычислить собственное значение и собственную матрицу Sw-1 * Sb\n",
    "\n",
    "    sorted_indices = np.argsort(eig_vals)\n",
    "    topk_eig_vecs = eig_vecs[:, sorted_indices[:-k - 1:-1]]  # Извлекаем первые k векторов признаков\n",
    "    return topk_eig_vecs"
   ]
  },
  {
   "cell_type": "code",
   "execution_count": 14,
   "id": "4812a9c2",
   "metadata": {},
   "outputs": [
    {
     "name": "stdout",
     "output_type": "stream",
     "text": [
      "[[-1.4533313652323754, -1.5885784364797837], [0.6896948457212646, -1.3600897678477686], [1.6185733733285896, -1.6411296630554182]]\n"
     ]
    },
    {
     "data": {
      "image/png": "[encoded data removed]",
      "text/plain": [
       "<Figure size 640x480 with 1 Axes>"
      ]
     },
     "metadata": {},
     "output_type": "display_data"
    }
   ],
   "source": [
    "# plt.scatter(X_train[:, 0], X_train[:, 1], marker='o', c=y_train)\n",
    "# plt.show()\n",
    "\n",
    "W = LDA_dimensionality(X_train, y_train, 2)\n",
    "X_new = np.dot((X_train), W)\n",
    "X_new = np.real(X_new)\n",
    "plt.scatter(X_new[:, 0], X_new[:, 1], marker='o', c=y_train)\n",
    "\n",
    "# Средние значения для (x, y) каждого класса\n",
    "middle_points = [[0, 0, 0], [0, 0, 0], [0, 0, 0]]\n",
    "for i in range(len(y_train)):\n",
    "    middle_points[y_train[i]][0] += X_new[i, 0]\n",
    "    middle_points[y_train[i]][1] += X_new[i, 1]\n",
    "    middle_points[y_train[i]][2] += 1\n",
    "middle_points = [[elem[0]/elem[2], elem[1]/elem[2]] for elem in middle_points]\n",
    "print(middle_points)\n",
    "\n",
    "func = []\n",
    "for i in range(len(middle_points) - 1): # прямых на 1 меньше чем классов\n",
    "    x = (middle_points[i][0] + middle_points[i + 1][0]) / 2\n",
    "    y = (middle_points[i][1] + middle_points[i + 1][1]) / 2\n",
    "    W_new = np.real(W)\n",
    "    k = sum(W_new[:, 0]) - sum(W_new[:, 1])\n",
    "    b = y - x * k\n",
    "    f = lambda x: k * x + b \n",
    "\n",
    "    x_line = [x - 1, x + 1]\n",
    "    y_line = [f(i) for i in x_line]\n",
    "    plt.plot(x_line, y_line)\n",
    "    func.append([k, b])\n",
    "\n",
    "\n",
    "plt.show()"
   ]
  },
  {
   "cell_type": "code",
   "execution_count": 15,
   "id": "a7650c44",
   "metadata": {},
   "outputs": [],
   "source": [
    "X_new_test = np.dot((X_test), W)"
   ]
  },
  {
   "cell_type": "markdown",
   "id": "204c0fdf",
   "metadata": {},
   "source": [
    "Оценка эффективности работы линейного дискриминативного анализа (реализация с семинара)"
   ]
  },
  {
   "cell_type": "code",
   "execution_count": 16,
   "id": "dbab3ec9",
   "metadata": {},
   "outputs": [
    {
     "data": {
      "text/plain": [
       "0.9473684210526315"
      ]
     },
     "execution_count": 16,
     "metadata": {},
     "output_type": "execute_result"
    }
   ],
   "source": [
    "def check_ans(point, ans, func=func):\n",
    "#    если выше первой прямой, то точка принадлежит к 0 или 1 классу \n",
    "    if point[1] >= func[1][0] * point[0] + func[1][1]:\n",
    "        #    если выше нулевой прямой, то точка принадлежит к 0 классу \n",
    "        if point[1] >= func[0][0] * point[0] + func[0][1]:\n",
    "            return ans == 0\n",
    "        return ans == 1\n",
    "    return ans == 2\n",
    "\n",
    "sum(check_ans(X_new_test[i], y_test[i]) for i in range(len(X_new_test))) / len(X_new_test)"
   ]
  },
  {
   "cell_type": "markdown",
   "id": "56958ef4",
   "metadata": {},
   "source": [
    "Сравнение метода LDA из sklearn.discriminant_analysis"
   ]
  },
  {
   "cell_type": "code",
   "execution_count": 17,
   "id": "355f2e01",
   "metadata": {},
   "outputs": [
    {
     "name": "stdout",
     "output_type": "stream",
     "text": [
      "Rifht ans: 0.9473684210526315\n"
     ]
    }
   ],
   "source": [
    "clf = LinearDiscriminantAnalysis()\n",
    "pred = clf.fit(X_train, y_train).predict(X_test)\n",
    "print(f'Rifht ans: {sum(pred[i] == y_test[i] for i in range(len(y_test))) / len(y_test)}')"
   ]
  },
  {
   "cell_type": "markdown",
   "id": "8fc89989",
   "metadata": {},
   "source": [
    "Чтобы алгоитм работал эффективнее можно изменить параметры классификатора. Добавлен параметр solver='eigen' при котором разложение происходит по собственным значениям. Так же был добавлен параметр shrinkage с некоторым значением сжатия"
   ]
  },
  {
   "cell_type": "code",
   "execution_count": 18,
   "id": "1c63f97f",
   "metadata": {},
   "outputs": [
    {
     "name": "stdout",
     "output_type": "stream",
     "text": [
      "Rifht ans: 0.9736842105263158\n"
     ]
    }
   ],
   "source": [
    "clf = LinearDiscriminantAnalysis(solver='eigen', shrinkage=0.9)\n",
    "pred = clf.fit(X_train, y_train).predict(X_test)\n",
    "print(f'Rifht ans: {sum(pred[i] == y_test[i] for i in range(len(y_test))) / len(y_test)}')"
   ]
  },
  {
   "cell_type": "markdown",
   "id": "e6b640f0",
   "metadata": {},
   "source": [
    "Таким образом, реализация sklearn.discriminant_analysis показала более высокий процент верных ответов, чем решение с LDA рассмотренным на семинаре"
   ]
  }
 ],
 "metadata": {
  "kernelspec": {
   "display_name": "Python 3 (ipykernel)",
   "language": "python",
   "name": "python3"
  },
  "language_info": {
   "codemirror_mode": {
    "name": "ipython",
    "version": 3
   },
   "file_extension": ".py",
   "mimetype": "text/x-python",
   "name": "python",
   "nbconvert_exporter": "python",
   "pygments_lexer": "ipython3",
   "version": "3.9.12"
  }
 },
 "nbformat": 4,
 "nbformat_minor": 5
}
