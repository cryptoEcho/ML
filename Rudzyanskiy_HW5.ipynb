{
 "cells": [
  {
   "cell_type": "markdown",
   "metadata": {},
   "source": [
    "# Machine Learning Homework 5\n",
    "\\> БИБ201 Рудзянский Артемий "
   ]
  },
  {
   "attachments": {},
   "cell_type": "markdown",
   "metadata": {},
   "source": [
    "## Кластеризация: О вкусах не спорят\n",
    "**Задача**\n",
    "- Создание своего датасета  \n",
    "        features: text  \n",
    "        label: artist\n",
    "    - Очистка текста от знаков препинания\n",
    "    - Использование Encoder\n",
    "- Кластеризация полученного датасета\n",
    "- Анализ результатов"
   ]
  },
  {
   "attachments": {},
   "cell_type": "markdown",
   "metadata": {},
   "source": [
    "## Создание своего датасета\n",
    "Выбранная структура датасета была представлена выше.\n",
    "\n",
    "Я решил использовать публичный API для получения текстов песен.\n",
    "\n",
    "Процесс:\n",
    "1) Я выбрал несколько артистов разных жанров (с целью, чтобы их тексты больше различались)\n",
    "2) Получил список песен выбранных исполнителей\n",
    "2) Через [ChartLyrics Lyric API](http://www.chartlyrics.com/api.aspx) получил тексты песен "
   ]
  },
  {
   "attachments": {},
   "cell_type": "markdown",
   "metadata": {},
   "source": [
    "0) Eminem  \n",
    "1) Philip Wesley  \n",
    "2) NEFFEX  \n",
    "3) Ed Sheeran  \n",
    "4) The Beatles  \n",
    "5) System of A Down  \n",
    "6) Gorillaz  \n",
    "7) Toto  \n",
    "8) TOOL  \n",
    "9) Nightwish "
   ]
  },
  {
   "cell_type": "code",
   "execution_count": 11,
   "metadata": {},
   "outputs": [],
   "source": [
    "import numpy as np\n",
    "import pandas as pd\n",
    "import requests\n",
    "try:\n",
    "    import xmltodict\n",
    "except ImportError as e:\n",
    "    !pip install xmltodict\n",
    "    import xmltodict\n",
    "from sklearn.feature_extraction.text import TfidfVectorizer\n",
    "np.random.seed(42)\n",
    "from sklearn.cluster import KMeans\n",
    "\n",
    "# to plot pretty figures\n",
    "%matplotlib inline\n",
    "import matplotlib as mpl\n",
    "import matplotlib.pyplot as plt\n",
    "mpl.rc('axes', labelsize=14)\n",
    "mpl.rc('xtick', labelsize=12)\n",
    "mpl.rc('ytick', labelsize=12)"
   ]
  },
  {
   "attachments": {},
   "cell_type": "markdown",
   "metadata": {},
   "source": [
    "### Демонстрация обработки изначального csv файла на примере *Eminem.csv\n",
    "Последующие csv файлы будут обработаны аналогично"
   ]
  },
  {
   "attachments": {},
   "cell_type": "markdown",
   "metadata": {},
   "source": [
    "Для начала напишем функцию получения текста песни при помощи публичного API\n",
    "Также напишем функцию, чистящую полученный текст, оставляя только одинарные пробелы и сам текст заглавными буквами"
   ]
  },
  {
   "cell_type": "code",
   "execution_count": 2,
   "metadata": {},
   "outputs": [],
   "source": [
    "# Функция получения текста песни\n",
    "def getLyrics(artist, song):\n",
    "    # Параметры запроса\n",
    "    url = \"http://api.chartlyrics.com/apiv1.asmx/SearchLyricDirect\"\n",
    "\n",
    "    querystring = {\"artist\": artist, \"song\": song}\n",
    "\n",
    "    headers = {\n",
    "    \t\"X-RapidAPI-Key\": \"SIGN-UP-FOR-KEY\",\n",
    "    \t\"X-RapidAPI-Host\": \"sridurgayadav-chart-lyrics-v1.p.rapidapi.com\"\n",
    "    }\n",
    "    # Выполняем запрос\n",
    "    try:\n",
    "        response = requests.request(\"GET\", url, headers=headers, params=querystring)\n",
    "        response.raise_for_status()\n",
    "    except requests.exceptions.HTTPError as err:\n",
    "        raise ValueError(\"Bad Response\")\n",
    "\n",
    "    # Обрабатываем ответ\n",
    "    dict_data = xmltodict.parse(response.content)['GetLyricResult']\n",
    "    if \"LyricSong\" in dict_data:\n",
    "        if dict_data[\"LyricArtist\"].upper() == artist.upper() and dict_data[\"LyricSong\"].upper() == song.upper() and dict_data[\"Lyric\"] is not None:\n",
    "            lyrics = dict_data[\"Lyric\"]\n",
    "            return clean_lyrics(lyrics) \n",
    "        else:\n",
    "            raise ValueError(f\"Not found exact song {song}, {artist}\")\n",
    "    else:\n",
    "        raise ValueError(\"Not found anything about the song\")\n",
    "\n",
    "\n",
    "# Функция очищения текста от лишних символов\n",
    "check_letter = lambda c: (64 < ord(c) and ord(c) < 91) or ord(c) == 32\n",
    "def clean_lyrics(lyrics):\n",
    "    lyrics = lyrics.upper()\n",
    "    #lyrics = ''.join(list(filter(check_letter, list(lyrics))))\n",
    "    lyrics = ''.join(list(filter(check_letter, list(lyrics))))\n",
    "\n",
    "    return ' '.join(lyrics.split())"
   ]
  },
  {
   "cell_type": "code",
   "execution_count": 3,
   "metadata": {},
   "outputs": [],
   "source": [
    "# df = pd.read_csv(\"Eminem.csv\", names=['Track', 'Artist'], header=0, usecols=['Track', 'Artist'])\n",
    "# df.head()\n",
    "# idx = df.index[df[\"Track\"] == \"Bad Guy\"].tolist()\n",
    "# print(idx)\n",
    "# df.at[idx[0], 'Track'] = ['q', 'z']\n",
    "# display(df)\n",
    "#df[df[\"Track\"] == 'Bad Guy'][\"Artist\"] = [\"q\", \"z\"]"
   ]
  },
  {
   "cell_type": "code",
   "execution_count": 4,
   "metadata": {},
   "outputs": [
    {
     "data": {
      "text/html": [
       "<div>\n",
       "<style scoped>\n",
       "    .dataframe tbody tr th:only-of-type {\n",
       "        vertical-align: middle;\n",
       "    }\n",
       "\n",
       "    .dataframe tbody tr th {\n",
       "        vertical-align: top;\n",
       "    }\n",
       "\n",
       "    .dataframe thead th {\n",
       "        text-align: right;\n",
       "    }\n",
       "</style>\n",
       "<table border=\"1\" class=\"dataframe\">\n",
       "  <thead>\n",
       "    <tr style=\"text-align: right;\">\n",
       "      <th></th>\n",
       "      <th>Track</th>\n",
       "      <th>Artist</th>\n",
       "    </tr>\n",
       "  </thead>\n",
       "  <tbody>\n",
       "    <tr>\n",
       "      <th>0</th>\n",
       "      <td>Lose Yourself - From \"8 Mile\" Soundtrack</td>\n",
       "      <td>Eminem</td>\n",
       "    </tr>\n",
       "    <tr>\n",
       "      <th>1</th>\n",
       "      <td>The Real Slim Shady</td>\n",
       "      <td>Eminem</td>\n",
       "    </tr>\n",
       "    <tr>\n",
       "      <th>2</th>\n",
       "      <td>Stan</td>\n",
       "      <td>Eminem</td>\n",
       "    </tr>\n",
       "    <tr>\n",
       "      <th>3</th>\n",
       "      <td>Till I Collapse</td>\n",
       "      <td>Eminem</td>\n",
       "    </tr>\n",
       "    <tr>\n",
       "      <th>4</th>\n",
       "      <td>My Name Is</td>\n",
       "      <td>Eminem</td>\n",
       "    </tr>\n",
       "  </tbody>\n",
       "</table>\n",
       "</div>"
      ],
      "text/plain": [
       "                                      Track  Artist\n",
       "0  Lose Yourself - From \"8 Mile\" Soundtrack  Eminem\n",
       "1                       The Real Slim Shady  Eminem\n",
       "2                                      Stan  Eminem\n",
       "3                           Till I Collapse  Eminem\n",
       "4                                My Name Is  Eminem"
      ]
     },
     "metadata": {},
     "output_type": "display_data"
    },
    {
     "data": {
      "text/plain": [
       "(52, 2)"
      ]
     },
     "metadata": {},
     "output_type": "display_data"
    },
    {
     "data": {
      "text/html": [
       "<div>\n",
       "<style scoped>\n",
       "    .dataframe tbody tr th:only-of-type {\n",
       "        vertical-align: middle;\n",
       "    }\n",
       "\n",
       "    .dataframe tbody tr th {\n",
       "        vertical-align: top;\n",
       "    }\n",
       "\n",
       "    .dataframe thead th {\n",
       "        text-align: right;\n",
       "    }\n",
       "</style>\n",
       "<table border=\"1\" class=\"dataframe\">\n",
       "  <thead>\n",
       "    <tr style=\"text-align: right;\">\n",
       "      <th></th>\n",
       "      <th>Track</th>\n",
       "      <th>Artist</th>\n",
       "    </tr>\n",
       "  </thead>\n",
       "  <tbody>\n",
       "    <tr>\n",
       "      <th>1</th>\n",
       "      <td>MAY I HAVE YOUR ATTENTION PLEASEMAY I HAVE YOU...</td>\n",
       "      <td>Eminem</td>\n",
       "    </tr>\n",
       "    <tr>\n",
       "      <th>4</th>\n",
       "      <td>HI MY NAME IS WHATMY NAME IS WHOMY NAME IS CHI...</td>\n",
       "      <td>Eminem</td>\n",
       "    </tr>\n",
       "    <tr>\n",
       "      <th>7</th>\n",
       "      <td>INTROWHERES MY SNAREI HAVE NO SNARE ON MY HEAD...</td>\n",
       "      <td>Eminem</td>\n",
       "    </tr>\n",
       "    <tr>\n",
       "      <th>8</th>\n",
       "      <td>NOT AFRAIDCHORUSIM NOT AFRAID IM NOT AFRAIDTO ...</td>\n",
       "      <td>Eminem</td>\n",
       "    </tr>\n",
       "    <tr>\n",
       "      <th>9</th>\n",
       "      <td>MAN WHATEVERDRE JUST LET IT RUNAYO TURN THE BE...</td>\n",
       "      <td>Eminem</td>\n",
       "    </tr>\n",
       "  </tbody>\n",
       "</table>\n",
       "</div>"
      ],
      "text/plain": [
       "                                               Track  Artist\n",
       "1  MAY I HAVE YOUR ATTENTION PLEASEMAY I HAVE YOU...  Eminem\n",
       "4  HI MY NAME IS WHATMY NAME IS WHOMY NAME IS CHI...  Eminem\n",
       "7  INTROWHERES MY SNAREI HAVE NO SNARE ON MY HEAD...  Eminem\n",
       "8  NOT AFRAIDCHORUSIM NOT AFRAID IM NOT AFRAIDTO ...  Eminem\n",
       "9  MAN WHATEVERDRE JUST LET IT RUNAYO TURN THE BE...  Eminem"
      ]
     },
     "metadata": {},
     "output_type": "display_data"
    },
    {
     "data": {
      "text/plain": [
       "(16, 2)"
      ]
     },
     "metadata": {},
     "output_type": "display_data"
    }
   ],
   "source": [
    "eminem_df = pd.read_csv(\"Eminem.csv\", names=['Track', 'Artist'], header=0, usecols=['Track', 'Artist'])\n",
    "eminem_df = eminem_df[eminem_df[\"Artist\"] == \"Eminem\"] # remain only given artist\n",
    "display(eminem_df.head(), eminem_df.shape)\n",
    "#df_text = pd.DataFrame(np.nan, index=range(eminem_df.shape[0]), columns=['Text'])\n",
    "#display(type(df_text))\n",
    "\n",
    "#eminem_df = pd.concat([eminem_df, df_text], axis=1)\n",
    "for track in eminem_df[\"Track\"].values:\n",
    "    try:\n",
    "        lyrics = getLyrics(\"Eminem\", track)\n",
    "        # put lyrics instead a name of a track\n",
    "        idx = eminem_df.index[eminem_df[\"Track\"] == track].tolist()[0]\n",
    "        eminem_df.at[idx, 'Track'] = lyrics\n",
    "    except ValueError: # delete track if we didn't find lyric\n",
    "        eminem_df = eminem_df[eminem_df['Track'] != track]\n",
    "display(eminem_df.head(), eminem_df.shape)"
   ]
  },
  {
   "attachments": {},
   "cell_type": "markdown",
   "metadata": {},
   "source": [
    "Выше был представлен наглядный пример превращения начального csv файла в готовый кусок датасета  \n",
    "Теперь же мы напишем функцию, которая позволит перебрать всех артистов через цикл"
   ]
  },
  {
   "cell_type": "code",
   "execution_count": 5,
   "metadata": {},
   "outputs": [],
   "source": [
    "def from_csv_to_df(artist):\n",
    "    df = pd.read_csv(f\"{artist}.csv\", names=['Track', 'Artist'], header=0, usecols=['Track', 'Artist'])\n",
    "    df = df[df['Artist'] == artist]\n",
    "    for track in df['Track'].values:\n",
    "        try:\n",
    "            lyrics = getLyrics(artist, track)\n",
    "            # put lyrics instead a name of a track\n",
    "            idx = df.index[df[\"Track\"] == track].tolist()[0]\n",
    "            df.at[idx, 'Track'] = lyrics\n",
    "           #df = df.replace(to_replace=track, value=lyrics, inplace=True)\n",
    "        except ValueError as err:\n",
    "            # print(err)\n",
    "            df = df[df['Track'] != track]\n",
    "    return df"
   ]
  },
  {
   "attachments": {},
   "cell_type": "markdown",
   "metadata": {},
   "source": [
    "Выпишем интересующих нас артистов в виде листа"
   ]
  },
  {
   "cell_type": "code",
   "execution_count": 6,
   "metadata": {},
   "outputs": [],
   "source": [
    "arr_artists = [\n",
    "    # 'Eminem',  \n",
    "    'Elton John', \n",
    "    'Michael Jackson',\n",
    "    'The Beatles',\n",
    "    'System of A Down',\n",
    "    'Gorillaz', \n",
    "    'TOTO', \n",
    "    'TOOL', \n",
    "    'Nightwish'\n",
    "]\n",
    "\n",
    "df = eminem_df\n",
    "for artist in arr_artists:\n",
    "    df_new = from_csv_to_df(artist)\n",
    "    df = pd.concat([df, df_new])\n"
   ]
  },
  {
   "cell_type": "code",
   "execution_count": 7,
   "metadata": {},
   "outputs": [
    {
     "data": {
      "text/plain": [
       "(186, 2)"
      ]
     },
     "metadata": {},
     "output_type": "display_data"
    },
    {
     "data": {
      "text/html": [
       "<div>\n",
       "<style scoped>\n",
       "    .dataframe tbody tr th:only-of-type {\n",
       "        vertical-align: middle;\n",
       "    }\n",
       "\n",
       "    .dataframe tbody tr th {\n",
       "        vertical-align: top;\n",
       "    }\n",
       "\n",
       "    .dataframe thead th {\n",
       "        text-align: right;\n",
       "    }\n",
       "</style>\n",
       "<table border=\"1\" class=\"dataframe\">\n",
       "  <thead>\n",
       "    <tr style=\"text-align: right;\">\n",
       "      <th></th>\n",
       "      <th>Artist</th>\n",
       "      <th>Track</th>\n",
       "    </tr>\n",
       "  </thead>\n",
       "  <tbody>\n",
       "    <tr>\n",
       "      <th>1</th>\n",
       "      <td>Eminem</td>\n",
       "      <td>MAY I HAVE YOUR ATTENTION PLEASEMAY I HAVE YOU...</td>\n",
       "    </tr>\n",
       "    <tr>\n",
       "      <th>4</th>\n",
       "      <td>Eminem</td>\n",
       "      <td>HI MY NAME IS WHATMY NAME IS WHOMY NAME IS CHI...</td>\n",
       "    </tr>\n",
       "    <tr>\n",
       "      <th>7</th>\n",
       "      <td>Eminem</td>\n",
       "      <td>INTROWHERES MY SNAREI HAVE NO SNARE ON MY HEAD...</td>\n",
       "    </tr>\n",
       "    <tr>\n",
       "      <th>8</th>\n",
       "      <td>Eminem</td>\n",
       "      <td>NOT AFRAIDCHORUSIM NOT AFRAID IM NOT AFRAIDTO ...</td>\n",
       "    </tr>\n",
       "    <tr>\n",
       "      <th>9</th>\n",
       "      <td>Eminem</td>\n",
       "      <td>MAN WHATEVERDRE JUST LET IT RUNAYO TURN THE BE...</td>\n",
       "    </tr>\n",
       "  </tbody>\n",
       "</table>\n",
       "</div>"
      ],
      "text/plain": [
       "   Artist                                              Track\n",
       "1  Eminem  MAY I HAVE YOUR ATTENTION PLEASEMAY I HAVE YOU...\n",
       "4  Eminem  HI MY NAME IS WHATMY NAME IS WHOMY NAME IS CHI...\n",
       "7  Eminem  INTROWHERES MY SNAREI HAVE NO SNARE ON MY HEAD...\n",
       "8  Eminem  NOT AFRAIDCHORUSIM NOT AFRAID IM NOT AFRAIDTO ...\n",
       "9  Eminem  MAN WHATEVERDRE JUST LET IT RUNAYO TURN THE BE..."
      ]
     },
     "metadata": {},
     "output_type": "display_data"
    }
   ],
   "source": [
    "df = df.loc[:, [\"Artist\", \"Track\"]]\n",
    "display(df.shape, df.head())\n",
    "df.to_csv(\"out.csv\", index=None)"
   ]
  },
  {
   "attachments": {},
   "cell_type": "markdown",
   "metadata": {},
   "source": [
    "Датасет готов"
   ]
  },
  {
   "cell_type": "code",
   "execution_count": 38,
   "id": "faa6e779",
   "metadata": {},
   "outputs": [],
   "source": [
    "vectorizer = TfidfVectorizer(max_df=0.2)\n",
    "X = vectorizer.fit_transform(df[\"Track\"]).toarray()"
   ]
  },
  {
   "cell_type": "code",
   "execution_count": 47,
   "id": "613cde35",
   "metadata": {},
   "outputs": [
    {
     "data": {
      "text/plain": [
       "186"
      ]
     },
     "metadata": {},
     "output_type": "display_data"
    },
    {
     "data": {
      "text/plain": [
       "(186, 2)"
      ]
     },
     "metadata": {},
     "output_type": "display_data"
    },
    {
     "data": {
      "text/plain": [
       "8726"
      ]
     },
     "metadata": {},
     "output_type": "display_data"
    },
    {
     "data": {
      "text/plain": [
       "(186, 8726)"
      ]
     },
     "metadata": {},
     "output_type": "display_data"
    },
    {
     "data": {
      "text/plain": [
       "(8726,)"
      ]
     },
     "metadata": {},
     "output_type": "display_data"
    }
   ],
   "source": [
    "display(len(X), df.shape, len(vectorizer.get_feature_names_out()))\n",
    "display(X.shape, X[20].shape)"
   ]
  },
  {
   "cell_type": "code",
   "execution_count": 12,
   "id": "94d804fb",
   "metadata": {},
   "outputs": [],
   "source": [
    "kmeans = KMeans(n_clusters=8, random_state=42).fit(X)"
   ]
  },
  {
   "cell_type": "code",
   "execution_count": 13,
   "metadata": {},
   "outputs": [],
   "source": [
    "clusters = kmeans.labels_"
   ]
  },
  {
   "cell_type": "code",
   "execution_count": 14,
   "metadata": {},
   "outputs": [
    {
     "data": {
      "text/plain": [
       "array([3, 3, 3, 7, 3, 3, 7, 7, 1, 7, 1, 3, 7, 3, 7, 3, 1, 3, 3, 7, 7, 3,\n",
       "       7, 3, 1, 3, 3, 3, 3, 3, 7, 1, 3, 6, 3, 5, 6, 1, 3, 3, 5, 3, 7, 7,\n",
       "       5, 3, 1, 7, 4, 1, 6, 0, 6, 7, 4, 0, 6, 0, 1, 1, 3, 3, 4, 1, 4, 5,\n",
       "       7, 1, 3, 7, 4, 3, 7, 3, 1, 3, 3, 6, 3, 4, 7, 7, 7, 6, 1, 3, 1, 3,\n",
       "       7, 6, 7, 7, 4, 3, 0, 1, 7, 3, 7, 7, 4, 3, 5, 3, 1, 1, 3, 3, 3, 1,\n",
       "       7, 7, 3, 7, 3, 1, 2, 1, 7, 4, 7, 3, 7, 5, 7, 5, 2, 4, 7, 3, 7, 7,\n",
       "       3, 1, 1, 7, 6, 7, 7, 7, 7, 3, 3, 7, 3, 7, 7, 7, 7, 3, 1, 7, 7, 3,\n",
       "       3, 2, 5, 6, 4, 7, 7, 7, 7, 3, 7, 7, 3, 1, 7, 7, 3, 3, 3, 1, 7, 7,\n",
       "       3, 7, 3, 1, 7, 3, 7, 3, 3, 1], dtype=int32)"
      ]
     },
     "metadata": {},
     "output_type": "display_data"
    }
   ],
   "source": [
    "display(clusters)"
   ]
  },
  {
   "attachments": {},
   "cell_type": "markdown",
   "metadata": {},
   "source": [
    "Получили:\n",
    "3 - Eminem"
   ]
  },
  {
   "cell_type": "code",
   "execution_count": 16,
   "metadata": {},
   "outputs": [
    {
     "name": "stdout",
     "output_type": "stream",
     "text": [
      "['Eminem' 'Eminem' 'Eminem' 'Eminem' 'Eminem' 'Eminem' 'Eminem' 'Eminem'\n",
      " 'Eminem' 'Eminem' 'Eminem' 'Eminem' 'Eminem' 'Eminem' 'Eminem' 'Eminem'\n",
      " 'Elton John' 'Elton John' 'Elton John' 'Elton John' 'Elton John'\n",
      " 'Elton John' 'Elton John' 'Elton John' 'Elton John' 'Elton John'\n",
      " 'Elton John' 'Elton John' 'Elton John' 'Elton John' 'Elton John'\n",
      " 'Elton John' 'Michael Jackson' 'Michael Jackson' 'Michael Jackson'\n",
      " 'Michael Jackson' 'Michael Jackson' 'Michael Jackson' 'Michael Jackson'\n",
      " 'Michael Jackson' 'Michael Jackson' 'Michael Jackson' 'Michael Jackson'\n",
      " 'Michael Jackson' 'Michael Jackson' 'Michael Jackson' 'Michael Jackson'\n",
      " 'Michael Jackson' 'Michael Jackson' 'Michael Jackson' 'Michael Jackson'\n",
      " 'The Beatles' 'The Beatles' 'The Beatles' 'The Beatles' 'The Beatles'\n",
      " 'The Beatles' 'The Beatles' 'The Beatles' 'The Beatles' 'The Beatles'\n",
      " 'The Beatles' 'The Beatles' 'The Beatles' 'The Beatles' 'The Beatles'\n",
      " 'The Beatles' 'The Beatles' 'The Beatles' 'The Beatles' 'The Beatles'\n",
      " 'The Beatles' 'The Beatles' 'The Beatles' 'The Beatles' 'The Beatles'\n",
      " 'The Beatles' 'Gorillaz' 'Gorillaz' 'Gorillaz' 'Gorillaz' 'Gorillaz'\n",
      " 'Gorillaz' 'Gorillaz' 'Gorillaz' 'Gorillaz' 'Gorillaz' 'Gorillaz'\n",
      " 'Gorillaz' 'Gorillaz' 'Gorillaz' 'TOTO' 'TOTO' 'TOTO' 'TOTO' 'TOTO'\n",
      " 'TOTO' 'TOTO' 'TOTO' 'TOTO' 'TOTO' 'TOTO' 'TOTO' 'TOTO' 'TOTO' 'TOTO'\n",
      " 'TOTO' 'TOTO' 'TOTO' 'TOTO' 'TOTO' 'TOTO' 'TOTO' 'TOTO' 'TOTO' 'TOTO'\n",
      " 'TOTO' 'TOTO' 'TOTO' 'TOTO' 'TOTO' 'TOTO' 'TOTO' 'TOTO' 'TOTO' 'TOTO'\n",
      " 'TOTO' 'TOTO' 'TOTO' 'TOTO' 'TOTO' 'TOTO' 'TOTO' 'TOTO' 'TOTO' 'TOTO'\n",
      " 'TOTO' 'TOTO' 'TOOL' 'TOOL' 'TOOL' 'TOOL' 'TOOL' 'TOOL' 'TOOL' 'TOOL'\n",
      " 'TOOL' 'TOOL' 'TOOL' 'TOOL' 'TOOL' 'TOOL' 'TOOL' 'TOOL' 'TOOL' 'TOOL'\n",
      " 'TOOL' 'TOOL' 'TOOL' 'TOOL' 'TOOL' 'TOOL' 'TOOL' 'Nightwish' 'Nightwish'\n",
      " 'Nightwish' 'Nightwish' 'Nightwish' 'Nightwish' 'Nightwish' 'Nightwish'\n",
      " 'Nightwish' 'Nightwish' 'Nightwish' 'Nightwish' 'Nightwish' 'Nightwish'\n",
      " 'Nightwish' 'Nightwish' 'Nightwish' 'Nightwish' 'Nightwish' 'Nightwish'\n",
      " 'Nightwish' 'Nightwish' 'Nightwish']\n",
      "['Eminem' 'Eminem' 'Eminem' 'Eminem' 'Eminem' 'Eminem' 'Eminem' 'Eminem'\n",
      " 'Eminem' 'Eminem' 'Eminem' 'Eminem' 'Eminem' 'Eminem' 'Eminem' 'Eminem'\n",
      " 'Elton John' 'Elton John' 'Elton John' 'Elton John' 'Elton John'\n",
      " 'Elton John' 'Elton John' 'Elton John' 'Elton John' 'Elton John'\n",
      " 'Elton John' 'Elton John' 'Elton John' 'Elton John' 'Elton John'\n",
      " 'Elton John' 'Michael Jackson' 'Michael Jackson' 'Michael Jackson'\n",
      " 'Michael Jackson' 'Michael Jackson' 'Michael Jackson' 'Michael Jackson'\n",
      " 'Michael Jackson' 'Michael Jackson' 'Michael Jackson' 'Michael Jackson'\n",
      " 'Michael Jackson' 'Michael Jackson' 'Michael Jackson' 'Michael Jackson'\n",
      " 'Michael Jackson' 'Michael Jackson' 'Michael Jackson' 'Michael Jackson'\n",
      " 'The Beatles' 'The Beatles' 'The Beatles' 'The Beatles' 'The Beatles'\n",
      " 'The Beatles' 'The Beatles' 'The Beatles' 'The Beatles' 'The Beatles'\n",
      " 'The Beatles' 'The Beatles' 'The Beatles' 'The Beatles' 'The Beatles'\n",
      " 'The Beatles' 'The Beatles' 'The Beatles' 'The Beatles' 'The Beatles'\n",
      " 'The Beatles' 'The Beatles' 'The Beatles' 'The Beatles' 'The Beatles'\n",
      " 'The Beatles' 'Gorillaz' 'Gorillaz' 'Gorillaz' 'Gorillaz' 'Gorillaz'\n",
      " 'Gorillaz' 'Gorillaz' 'Gorillaz' 'Gorillaz' 'Gorillaz' 'Gorillaz'\n",
      " 'Gorillaz' 'Gorillaz' 'Gorillaz' 'TOTO' 'TOTO' 'TOTO' 'TOTO' 'TOTO'\n",
      " 'TOTO' 'TOTO' 'TOTO' 'TOTO' 'TOTO' 'TOTO' 'TOTO' 'TOTO' 'TOTO' 'TOTO'\n",
      " 'TOTO' 'TOTO' 'TOTO' 'TOTO' 'TOTO' 'TOTO' 'TOTO' 'TOTO' 'TOTO' 'TOTO'\n",
      " 'TOTO' 'TOTO' 'TOTO' 'TOTO' 'TOTO' 'TOTO' 'TOTO' 'TOTO' 'TOTO' 'TOTO'\n",
      " 'TOTO' 'TOTO' 'TOTO' 'TOTO' 'TOTO' 'TOTO' 'TOTO' 'TOTO' 'TOTO' 'TOTO'\n",
      " 'TOTO' 'TOTO' 'TOOL' 'TOOL' 'TOOL' 'TOOL' 'TOOL' 'TOOL' 'TOOL' 'TOOL'\n",
      " 'TOOL' 'TOOL' 'TOOL' 'TOOL' 'TOOL' 'TOOL' 'TOOL' 'TOOL' 'TOOL' 'TOOL'\n",
      " 'TOOL' 'TOOL' 'TOOL' 'TOOL' 'TOOL' 'TOOL' 'TOOL' 'Nightwish' 'Nightwish'\n",
      " 'Nightwish' 'Nightwish' 'Nightwish' 'Nightwish' 'Nightwish' 'Nightwish'\n",
      " 'Nightwish' 'Nightwish' 'Nightwish' 'Nightwish' 'Nightwish' 'Nightwish'\n",
      " 'Nightwish' 'Nightwish' 'Nightwish' 'Nightwish' 'Nightwish' 'Nightwish'\n",
      " 'Nightwish' 'Nightwish' 'Nightwish']\n"
     ]
    }
   ],
   "source": [
    "print(df[\"Artist\"].values)\n",
    "with pd.option_context('display.max_rows', None, 'display.max_columns', None):  # more options can be specified also\n",
    "    print(df[\"Artist\"].values)"
   ]
  },
  {
   "cell_type": "code",
   "execution_count": 59,
   "metadata": {},
   "outputs": [
    {
     "name": "stdout",
     "output_type": "stream",
     "text": [
      "['Elton John', 'Michael Jackson', 'The Beatles', 'System of A Down', 'Gorillaz', 'TOTO', 'TOOL', 'Nightwish']\n",
      "3\n",
      "0\n",
      "3\n"
     ]
    },
    {
     "ename": "IndexError",
     "evalue": "list index out of range",
     "output_type": "error",
     "traceback": [
      "\u001b[0;31m---------------------------------------------------------------------------\u001b[0m",
      "\u001b[0;31mIndexError\u001b[0m                                Traceback (most recent call last)",
      "\u001b[0;32m/tmp/ipykernel_39174/793091238.py\u001b[0m in \u001b[0;36m<module>\u001b[0;34m\u001b[0m\n\u001b[1;32m      5\u001b[0m \u001b[0;32mfor\u001b[0m \u001b[0mperm\u001b[0m \u001b[0;32min\u001b[0m \u001b[0mperms\u001b[0m\u001b[0;34m:\u001b[0m\u001b[0;34m\u001b[0m\u001b[0;34m\u001b[0m\u001b[0m\n\u001b[1;32m      6\u001b[0m     \u001b[0;32mfor\u001b[0m \u001b[0mi\u001b[0m \u001b[0;32min\u001b[0m \u001b[0mperm\u001b[0m\u001b[0;34m:\u001b[0m\u001b[0;34m\u001b[0m\u001b[0;34m\u001b[0m\u001b[0m\n\u001b[0;32m----> 7\u001b[0;31m         \u001b[0midx\u001b[0m \u001b[0;34m=\u001b[0m \u001b[0mdf\u001b[0m\u001b[0;34m.\u001b[0m\u001b[0mindex\u001b[0m\u001b[0;34m[\u001b[0m\u001b[0mdf\u001b[0m\u001b[0;34m[\u001b[0m\u001b[0;34m\"Artist\"\u001b[0m\u001b[0;34m]\u001b[0m \u001b[0;34m==\u001b[0m \u001b[0marr_artists\u001b[0m\u001b[0;34m[\u001b[0m\u001b[0mi\u001b[0m\u001b[0;34m]\u001b[0m\u001b[0;34m]\u001b[0m\u001b[0;34m.\u001b[0m\u001b[0mtolist\u001b[0m\u001b[0;34m(\u001b[0m\u001b[0;34m)\u001b[0m\u001b[0;34m[\u001b[0m\u001b[0;36m0\u001b[0m\u001b[0;34m]\u001b[0m\u001b[0;34m\u001b[0m\u001b[0;34m\u001b[0m\u001b[0m\n\u001b[0m\u001b[1;32m      8\u001b[0m         \u001b[0mprint\u001b[0m\u001b[0;34m(\u001b[0m\u001b[0midx\u001b[0m\u001b[0;34m)\u001b[0m\u001b[0;34m\u001b[0m\u001b[0;34m\u001b[0m\u001b[0m\n\u001b[1;32m      9\u001b[0m         \u001b[0;31m# df.at[idx, 'Track'] = lyrics\u001b[0m\u001b[0;34m\u001b[0m\u001b[0;34m\u001b[0m\u001b[0m\n",
      "\u001b[0;31mIndexError\u001b[0m: list index out of range"
     ]
    }
   ],
   "source": [
    "from itertools import permutations\n",
    "import itertools\n",
    "print(arr_artists)\n",
    "perms = list(permutations(range(8)))\n",
    "for perm in perms:\n",
    "    for i in perm:\n",
    "        idx = df.index[df[\"Artist\"] == arr_artists[i]].tolist()[0]\n",
    "        print(idx)\n",
    "        # df.at[idx, 'Track'] = lyrics\n",
    "        \n",
    "\n",
    "import seaborn as sns\n",
    "sns.acatter "
   ]
  },
  {
   "cell_type": "code",
   "execution_count": null,
   "metadata": {},
   "outputs": [],
   "source": []
  },
  {
   "attachments": {},
   "cell_type": "markdown",
   "metadata": {},
   "source": [
    "Я считаю, что разброс сета не имеет кластерную структуру. Так как большинство ходовых слов встречается во всех текстах вне зависимости от жанра и артиста. И даже всё равно после того как мы нормализовали частоту попадания популярных слов при помощи Vectorizer, проблема простоты модели никуда не подевалась. Также слишком малые значения в матрице при tf-idf\n",
    "Здесь стоило бы использовать анализ словосочетаний. Это бы намного сильнее увеличило эффективность.\n",
    "Если работать только с ключевыми словами, то будет работать лучше."
   ]
  }
 ],
 "metadata": {
  "kernelspec": {
   "display_name": "base",
   "language": "python",
   "name": "python3"
  },
  "language_info": {
   "codemirror_mode": {
    "name": "ipython",
    "version": 3
   },
   "file_extension": ".py",
   "mimetype": "text/x-python",
   "name": "python",
   "nbconvert_exporter": "python",
   "pygments_lexer": "ipython3",
   "version": "3.9.13"
  },
  "orig_nbformat": 4,
  "vscode": {
   "interpreter": {
    "hash": "586ad1ed5c97141e2437e681efbf1ec0adcd17d830cf5af2ca3d2819e743e158"
   }
  }
 },
 "nbformat": 4,
 "nbformat_minor": 2
}
