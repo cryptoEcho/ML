{
 "cells": [
  {
   "cell_type": "code",
   "execution_count": 1,
   "metadata": {},
   "outputs": [],
   "source": [
    "from numpy import *\n",
    "import matplotlib.pyplot as plt\n",
    "import time"
   ]
  },
  {
   "cell_type": "code",
   "execution_count": 2,
   "metadata": {},
   "outputs": [],
   "source": [
    "def compute_error_for_line_given_points(b, m, points):\n",
    "    # initialize it at 0\n",
    "    totalError = 0\n",
    "    #for every point\n",
    "    for i in range(0, len(points)):\n",
    "        # get the x value\n",
    "        x = points[i, 0]\n",
    "        # get the y value\n",
    "        y = points[i, 1]\n",
    "        # get the difference, suare it, add it to the total\n",
    "        totalError += ( y - (m * x + b) ) ** 2\n",
    "\n",
    "    # get the average\n",
    "    return totalError / float(len(points))\n",
    "\n",
    "\n",
    "def gradient_descent_runner(points, starting_b, starting_m, learning_rate, num_iterations):\n",
    "    # starting b and m\n",
    "    b = starting_b\n",
    "    m = starting_m\n",
    "\n",
    "    plt.ion()\n",
    "    figure, ax = plt.subplots(figsize=(10, 8))\n",
    "    line1, _ = ax.plot(points, m*points + b)\n",
    "    plt.title(\"Check\", fontsize=20)\n",
    "\n",
    "    # gradient descent\n",
    "    for i in range(num_iterations):\n",
    "        # update b and m with the new more accurate b and m\n",
    "        # by performing this gradient step\n",
    "        b, m = step_gradient(b, m, array(points), learning_rate)\n",
    "\n",
    "        line1.set_xdata(points)\n",
    "        line1.set_ydata(m*points + b)\n",
    "        figure.canvas.draw()\n",
    "        figure.canvas.flush_events()\n",
    "        time.sleep(0.1)\n",
    "        \n",
    "    return [b, m]\n",
    "\n",
    "    \n",
    "def step_gradient(b_current, m_current, points, learning_rate):\n",
    "    # starting points for our gradients\n",
    "    b_gradient = 0\n",
    "    m_gradient = 0\n",
    "\n",
    "    N = float(len(points))\n",
    "\n",
    "    for i in range(0, len(points)):\n",
    "        x = points[i, 0]\n",
    "        y = points[i, 1]\n",
    "        # direction with respect to b and m\n",
    "        # computing partial derivatives of our error function\n",
    "        # частная производная по перменной показывает в какую сторону данная переменная возрастает\n",
    "        b_gradient += - (2 / N) * (y - (m_current * x + b_current) )\n",
    "        m_gradient += - (2 / N) * x * (y - (m_current * x + b_current) )\n",
    "\n",
    "    # update our b and m values using our partial derivatives\n",
    "    new_b = b_current - ( learning_rate * b_gradient )\n",
    "    new_m = m_current - ( learning_rate * m_gradient )\n",
    "    return [new_b, new_m]\n",
    "    \n",
    "    \n",
    "\n",
    "def run():\n",
    "    # Step 1 - collect our data\n",
    "    points = genfromtxt('data.csv', delimiter=',', dtype=longdouble)\n",
    "\n",
    "    # Step 2 - define our hyperparams\n",
    "    # how fast should our model converge\n",
    "    learning_rate = 0.0001\n",
    "    # y = mx + b (slope formula)\n",
    "    initial_b = 0\n",
    "    initial_m = 0\n",
    "    num_iterations = 1000\n",
    "    plt.scatter(points, m*points + b)\n",
    "    \n",
    "    # Step 3 - train our model\n",
    "    print(\"starting gradient descent at b = {}, m = {}, error = {}\".format(\n",
    "        initial_b, initial_m,\n",
    "        compute_error_for_line_given_points(initial_b, initial_m, points))) # starting point\n",
    "    \n",
    "    \n",
    "    # perform gradient descent (we will get optilmal slope & m)\n",
    "    [b, m] = gradient_descent_runner(points, initial_b, initial_m, learning_rate, num_iterations)\n",
    "    print('After {} iterations b = {}, m = {}, error = {}'.format(\n",
    "        num_iterations, b, m,\n",
    "        compute_error_for_line_given_points(b, m, points))) # starting point\n",
    " \n",
    "    "
   ]
  },
  {
   "cell_type": "markdown",
   "metadata": {},
   "source": [
    "$${2\\over N}\\sum_{i=1}^{N} -x_i (y_i - (m\\cdot x_i + b))$$\n",
    "\n",
    "$${2\\over N}\\sum_{i=1}^{N} -(y_i - (m\\cdot x_i + b))$$"
   ]
  },
  {
   "cell_type": "code",
   "execution_count": null,
   "metadata": {},
   "outputs": [
    {
     "name": "stdout",
     "output_type": "stream",
     "text": [
      "starting gradient descent at b = 0, m = 0, error = 5565.107834483214\n"
     ]
    }
   ],
   "source": [
    "run()\n",
    "\n"
   ]
  }
 ],
 "metadata": {
  "kernelspec": {
   "display_name": "Python 3 (ipykernel)",
   "language": "python",
   "name": "python3"
  },
  "language_info": {
   "codemirror_mode": {
    "name": "ipython",
    "version": 3
   },
   "file_extension": ".py",
   "mimetype": "text/x-python",
   "name": "python",
   "nbconvert_exporter": "python",
   "pygments_lexer": "ipython3",
   "version": "3.9.13"
  },
  "vscode": {
   "interpreter": {
    "hash": "586ad1ed5c97141e2437e681efbf1ec0adcd17d830cf5af2ca3d2819e743e158"
   }
  }
 },
 "nbformat": 4,
 "nbformat_minor": 2
}
