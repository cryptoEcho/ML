{
 "cells": [
  {
   "cell_type": "code",
   "execution_count": 2,
   "id": "199e012e",
   "metadata": {},
   "outputs": [],
   "source": [
    "from IPython.display import Math, Latex"
   ]
  },
  {
   "cell_type": "code",
   "execution_count": 6,
   "id": "c6346ed0",
   "metadata": {},
   "outputs": [
    {
     "data": {
      "text/latex": [
       "$\\displaystyle Hello 2 \\cdot 2 = 4$"
      ],
      "text/plain": [
       "<IPython.core.display.Math object>"
      ]
     },
     "metadata": {},
     "output_type": "display_data"
    }
   ],
   "source": [
    "display(Math('Hello 2 \\cdot 2 = 4'))"
   ]
  }
 ],
 "metadata": {
  "kernelspec": {
   "display_name": "Python 3 (ipykernel)",
   "language": "python",
   "name": "python3"
  },
  "language_info": {
   "codemirror_mode": {
    "name": "ipython",
    "version": 3
   },
   "file_extension": ".py",
   "mimetype": "text/x-python",
   "name": "python",
   "nbconvert_exporter": "python",
   "pygments_lexer": "ipython3",
   "version": "3.9.12"
  }
 },
 "nbformat": 4,
 "nbformat_minor": 5
}
