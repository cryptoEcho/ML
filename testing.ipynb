{
 "cells": [
  {
   "cell_type": "code",
   "execution_count": 1,
   "id": "5b273497",
   "metadata": {},
   "outputs": [],
   "source": [
    "s = 'Cumings, Mrs. John Bradley (Florence Briggs Thayer)'"
   ]
  },
  {
   "cell_type": "code",
   "execution_count": 2,
   "id": "822e3e1b",
   "metadata": {},
   "outputs": [],
   "source": [
    "import re"
   ]
  },
  {
   "cell_type": "code",
   "execution_count": 11,
   "id": "a090d8cb",
   "metadata": {},
   "outputs": [],
   "source": [
    "name = s.split(\"(\")[-1].split(\" \")[0]"
   ]
  },
  {
   "cell_type": "code",
   "execution_count": 13,
   "id": "8b208c1e",
   "metadata": {},
   "outputs": [
    {
     "data": {
      "text/plain": [
       "'Florence'"
      ]
     },
     "execution_count": 13,
     "metadata": {},
     "output_type": "execute_result"
    }
   ],
   "source": [
    "name"
   ]
  },
  {
   "cell_type": "code",
   "execution_count": 17,
   "id": "d1b97df4",
   "metadata": {},
   "outputs": [],
   "source": [
    "s = 'Masselmani, Mrs. Fatima'"
   ]
  },
  {
   "cell_type": "code",
   "execution_count": 19,
   "id": "2824410a",
   "metadata": {},
   "outputs": [
    {
     "name": "stdout",
     "output_type": "stream",
     "text": [
      "Fatima\n"
     ]
    }
   ],
   "source": [
    "name = re.search('\\.\\s\\w+', s).group().replace('. ', '')\n",
    "print(name)"
   ]
  },
  {
   "cell_type": "code",
   "execution_count": null,
   "id": "ee68719d",
   "metadata": {},
   "outputs": [],
   "source": []
  },
  {
   "cell_type": "code",
   "execution_count": null,
   "id": "2b41d205",
   "metadata": {},
   "outputs": [],
   "source": []
  },
  {
   "cell_type": "code",
   "execution_count": null,
   "id": "3dd7e025",
   "metadata": {},
   "outputs": [],
   "source": []
  },
  {
   "cell_type": "code",
   "execution_count": 20,
   "id": "93138731",
   "metadata": {},
   "outputs": [],
   "source": [
    "import numpy as np\n",
    "import scipy.linalg as LA\n",
    "import matplotlib.pyplot as plt"
   ]
  },
  {
   "cell_type": "code",
   "execution_count": 21,
   "id": "e42b8db9",
   "metadata": {},
   "outputs": [],
   "source": [
    "def f(x):\n",
    "    return np.sin(x)"
   ]
  },
  {
   "cell_type": "code",
   "execution_count": 58,
   "id": "fc5411a7",
   "metadata": {},
   "outputs": [
    {
     "data": {
      "text/plain": [
       "array([[1. , 0.2],\n",
       "       [1. , 0.8]])"
      ]
     },
     "metadata": {},
     "output_type": "display_data"
    },
    {
     "data": {
      "text/plain": [
       "array([0.19866933, 0.71735609])"
      ]
     },
     "metadata": {},
     "output_type": "display_data"
    },
    {
     "data": {
      "text/plain": [
       "array([[1. , 0.2],\n",
       "       [1. , 0.8]])"
      ]
     },
     "metadata": {},
     "output_type": "display_data"
    },
    {
     "data": {
      "text/plain": [
       "array([0.02577374, 0.86447793])"
      ]
     },
     "metadata": {},
     "output_type": "display_data"
    },
    {
     "name": "stdout",
     "output_type": "stream",
     "text": [
      "[0.02577374 0.86447793]\n"
     ]
    },
    {
     "data": {
      "text/plain": [
       "[<matplotlib.lines.Line2D at 0x7fa7bc2c4c70>,\n",
       " <matplotlib.lines.Line2D at 0x7fa7bc2c4cd0>]"
      ]
     },
     "execution_count": 58,
     "metadata": {},
     "output_type": "execute_result"
    },
    {
     "data": {
      "image/png": "[encoded data removed]",
      "text/plain": [
       "<Figure size 432x288 with 1 Axes>"
      ]
     },
     "metadata": {
      "needs_background": "light"
     },
     "output_type": "display_data"
    }
   ],
   "source": [
    "x_0, x_1 = 0.2, 0.8\n",
    "X = np.linspace(0.2, 0.8)\n",
    "# plt.plot(X, f(X))\n",
    "A = np.array([\n",
    "    [np.power(x_0, 0), np.power(x_0, 1)],\n",
    "    [np.power(x_1, 0), np.power(x_1, 1)]\n",
    "            ])\n",
    "b = np.array([\n",
    "    f(x_0),\n",
    "    f(x_1)\n",
    "            ])\n",
    "display(A, b)\n",
    "X = LA.solve(A, b)\n",
    "display(A, X)\n",
    "np.dot(A, X) == b\n",
    "print(X)\n",
    "def approx_f(x):\n",
    "    return X[0] * np.power(x, 0) + X[1] * np.power(x, 1)\n",
    "plt.plot(X, f(X), X, approx_f(X))"
   ]
  },
  {
   "cell_type": "code",
   "execution_count": 42,
   "id": "bd35d8a2",
   "metadata": {},
   "outputs": [
    {
     "name": "stdout",
     "output_type": "stream",
     "text": [
      "[2. 4.]\n",
      "[2 4]\n"
     ]
    }
   ],
   "source": [
    "a = np.array([[3, 2], [1, -1]])\n",
    "b = np.array([2, 4])\n",
    "x = LA.solve(a, b)\n",
    "print(np.dot(a, x))\n",
    "print(b)"
   ]
  }
 ],
 "metadata": {
  "kernelspec": {
   "display_name": "Python 3 (ipykernel)",
   "language": "python",
   "name": "python3"
  },
  "language_info": {
   "codemirror_mode": {
    "name": "ipython",
    "version": 3
   },
   "file_extension": ".py",
   "mimetype": "text/x-python",
   "name": "python",
   "nbconvert_exporter": "python",
   "pygments_lexer": "ipython3",
   "version": "3.9.12"
  }
 },
 "nbformat": 4,
 "nbformat_minor": 5
}
